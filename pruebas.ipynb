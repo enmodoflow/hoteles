{
 "nbformat": 4,
 "nbformat_minor": 2,
 "metadata": {
  "language_info": {
   "name": "python",
   "codemirror_mode": {
    "name": "ipython",
    "version": 3
   },
   "version": "3.7.4-final"
  },
  "orig_nbformat": 2,
  "file_extension": ".py",
  "mimetype": "text/x-python",
  "name": "python",
  "npconvert_exporter": "python",
  "pygments_lexer": "ipython3",
  "version": 3,
  "kernelspec": {
   "name": "python3",
   "display_name": "Python 3"
  }
 },
 "cells": [
  {
   "cell_type": "code",
   "execution_count": 1,
   "metadata": {},
   "outputs": [],
   "source": [
    "from bs4 import BeautifulSoup\n",
    "import requests\n",
    "import lxml\n",
    "import re"
   ]
  },
  {
   "cell_type": "code",
   "execution_count": 2,
   "metadata": {},
   "outputs": [],
   "source": [
    "url = \"https://www.diariodemallorca.es\""
   ]
  },
  {
   "cell_type": "code",
   "execution_count": 3,
   "metadata": {},
   "outputs": [
    {
     "output_type": "execute_result",
     "data": {
      "text/plain": "200"
     },
     "metadata": {},
     "execution_count": 3
    }
   ],
   "source": [
    "diariomallorca = requests.get(url)\n",
    "diariomallorca.status_code"
   ]
  },
  {
   "cell_type": "code",
   "execution_count": 4,
   "metadata": {},
   "outputs": [
    {
     "output_type": "execute_result",
     "data": {
      "text/plain": "{'Connection': 'keep-alive', 'Content-Length': '58217', 'Via': 'Server from Cache (10.0: 251), 1.1 varnish', 'Server': 'nginx', 'Content-Type': 'text/html; charset=ISO-8859-1', 'X-Cjtype': '1m', 'X-Time': '0.000', 'Content-Encoding': 'gzip', 'cache-control': 'public, max-age=0', 'Accept-Ranges': 'bytes, bytes', 'Date': 'Sun, 29 Mar 2020 16:04:44 GMT', 'X-Served-By': 'cache-mad22022-MAD', 'X-Cache': 'HIT, MISS', 'X-Cache-Hits': '0', 'X-Timer': 'S1585497885.823257,VS0,VE2', 'Vary': 'Accept-Encoding', 'Strict-Transport-Security': 'max-age=31557600'}"
     },
     "metadata": {},
     "execution_count": 4
    }
   ],
   "source": [
    "diariomallorca.headers"
   ]
  },
  {
   "cell_type": "code",
   "execution_count": 5,
   "metadata": {},
   "outputs": [
    {
     "output_type": "execute_result",
     "data": {
      "text/plain": "{'User-Agent': 'python-requests/2.22.0', 'Accept-Encoding': 'gzip, deflate', 'Accept': '*/*', 'Connection': 'keep-alive'}"
     },
     "metadata": {},
     "execution_count": 5
    }
   ],
   "source": [
    "# Vemos que la petición que le hacemos al servidor es con python-request\n",
    "diariomallorca.request.headers"
   ]
  },
  {
   "cell_type": "code",
   "execution_count": 6,
   "metadata": {},
   "outputs": [
    {
     "output_type": "execute_result",
     "data": {
      "text/plain": "'GET'"
     },
     "metadata": {},
     "execution_count": 6
    }
   ],
   "source": [
    "# Que método\n",
    "diariomallorca.request.method"
   ]
  },
  {
   "cell_type": "code",
   "execution_count": 7,
   "metadata": {},
   "outputs": [
    {
     "output_type": "execute_result",
     "data": {
      "text/plain": "'https://www.diariodemallorca.es/'"
     },
     "metadata": {},
     "execution_count": 7
    }
   ],
   "source": [
    "# A que url estamos apuntando, por si hay dudas\n",
    "diariomallorca.request.url"
   ]
  },
  {
   "cell_type": "code",
   "execution_count": 8,
   "metadata": {},
   "outputs": [
    {
     "output_type": "execute_result",
     "data": {
      "text/plain": "a href=\"https://www.mallorcapremiumreview.com/\" target=\"_blank\">Mallorca Premium Review</a></h4>\n<p>Versión digital de la revista Lifestyle de Diario de Mallorca.</p>\n</div>\n<div class=\"nu-servicio\">\n<h3><a href=\"https://www.diariodemallorca.es/economia/\" target=\"_blank\" title=\"Economía - Diario de Mallorca\">ECONOMÍA</a></h3>\n<a href=\"https://www.businessdemallorca.es/\" target=\"_blank\"><img alt=\" Mallorquines en el mundo\" src=\"https://www.diariodemallorca.es/elementosWeb/gestionCajas/DMA/Image/2019//bdm.png\"/></a>\n<h4><a href=\"https://www.businessdemallorca.es/\" target=\"_blank\">Business de Mallorca</a></h4>\n<p>El foro empresarial líder en Mallorca, en Club Diario de Mallorca.</p>\n</div>\n<div class=\"nu-servicio nu-menu\">\n<h3><a href=\"https://www.diariodemallorca.es/especiales/calendario-escolar-laboral-baleares/\" target=\"_blank\" title=\"Calendario escolar y laboral\">CALENDARIO</a></h3>\n<a href=\"https://www.diariodemallorca.es/especiales/calendario-escolar-laboral-baleares/\" target=\"_blank\"><img alt=\"Calendario escolar y laboral\" src=\"https://www.diariodemallorca.es/elementosWeb/gestionCajas/DMA/Image/2019//calendario.PNG\"/></a>\n<h4><a href=\"https://www.diariodemallorca.es/especiales/calendario-escolar-laboral-baleares/\" target=\"_blank\">Calendario Escolar y Laboral de Baleares</a></h4>\n<p>Todos los días festivos nacionales, locales de 2020, así como el calendario escolar para el curso 2019/20.</p>\n<div class=\"menusuplementos\">\n<ul>\n<li><a href=\"https://www.diariodemallorca.es/especiales/calendario-escolar-laboral-baleares/curso-escolar-2019-2020/\" target=\"_blank\" title=\"Calendario Escolar 2019-2020\">Calendario Escolar 2019-2020</a></li>\n</ul>\n</div>\n<div class=\"menusuplementos\">\n<ul>\n<li><a href=\"https://www.diariodemallorca.es/especiales/calendario-escolar-laboral-baleares/calendario-laboral/\" target=\"_blank\" title=\"Calendario Laboral 2020\">Calendario Laboral 2020</a></li>\n</ul>\n</div>\n</div>\n<div class=\"nu-servicio nu-menu\" style=\"display: none;\">\n<h3><a href=\"https://ocio.diariodemallorca.es/\" target=\"_blank\" title=\"Ocio - Diario de Mallorca\">OCIO</a></h3>\n<a href=\"https://nomadiantravel.com/\" target=\"_blank\"><img alt=\"nomadiantravel\" src=\"https://www.diariodemallorca.es/elementosWeb/gestionCajas/DMA/Image/2019//nomadian.png\"/></a>\n<h4><a href=\"https://nomadiantravel.com/\" target=\"_blank\">Nomadiantravel</a></h4>\n<p>Agencia de viajes online con la garantía y confianza de Diario de Mallorca.</p>\n<div class=\"menusuplementos\">\n<ul>\n<li><a href=\"https://www.nomadiantravel.com/ES/169/escapadas/moreideas\" target=\"_blank\" title=\"Escapadas\">Escapadas</a></li>\n<li><a href=\"https://www.nomadiantravel.com/ES/29/semana-santa/moreideas\" target=\"_blank\" title=\"Semana Santa\">Semana Santa</a></li>\n</ul>\n</div>\n<div class=\"menusuplementos\">\n<ul>\n<li><a href=\"https://www.nomadiantravel.com/ES/31/invierno/moreideas\" target=\"_blank\" title=\"Esquí/Invierno\">Esquí/Invierno</a></li>\n<li><a href=\"https://www.nomadiantravel.com/ES/191/dia-de-san-valentin/moreideas\" target=\"_blank\" title=\"San Valentín\">San Valentín</a></li>\n</ul>\n</div>\n</div>\n<div class=\"nu-servicio nu-menu\">\n<h3><a href=\"https://ocio.diariodemallorca.es/\" target=\"_blank\" title=\"Ocio - Diario de Mallorca\">OCIO</a></h3>\n<a href=\"https://www.restaurantesdemallorca.com/\" target=\"_blank\"><img alt=\"Restaurantes de Mallorca\" src=\"https://www.diariodemallorca.es/elementosWeb/gestionCajas/DMA/Image/2019//restaurantes.png\"/></a>\n<h4><a href=\"https://www.restaurantesdemallorca.com/\" target=\"_blank\">Restaurantes de Mallorca</a></h4>\n<p>La guía de los mejores restaurantes de la isla powered by Diario de Mallorca.</p>\n<div class=\"menusuplementos\">\n<ul>\n<li><a href=\"https://www.restaurantesdemallorca.com/listing/?bt_bb_listing_field_keyword=&amp;bt_bb_listing_field_region=all&amp;bt_bb_listing_field_category=asiatica\" target=\"_blank\" title=\"Asiática\">Asiática</a></li>\n<li><a href=\"https://www.restaurantesdemallorca.com/listing/?&amp;listing_list_view=standard&amp;bt_bb_listing_field_my_lat=39.569563&amp;bt_bb_listing_field_my_lng=2.6504527&amp;bt_bb_listing_field_my_lat_default=39.569563&amp;bt_bb_listing_field_my_lng_default=2.6504527&amp;bt_bb_listing_field_category=internacional&amp;bt_bb_listing_field_region=all&amp;bt_bb_listing_field_sort=-1\" target=\"_blank\" title=\"Internacional\">Internacional</a></li>\n</ul>\n</div>\n<div class=\"menusuplementos\">\n<ul>\n<li><a href=\"https://www.restaurantesdemallorca.com/listing/?bt_bb_listing_field_keyword=&amp;bt_bb_listing_field_region=all&amp;bt_bb_listing_field_category=mallorquina\" target=\"_blank\" title=\"Mallorquina\">Mallorquina</a></li>\n<li><a href=\"https://www.restaurantesdemallorca.com/listing/?bt_bb_listing_field_keyword=&amp;bt_bb_listing_field_region=all&amp;bt_bb_listing_field_category=tapas\" target=\"_blank\" title=\"Tapas\">Tapas</a></li>\n</ul>\n</div>\n</div>\n</div><!------------ FIN nu-canales ----------- -->\n<!------------ FIN BARRA 2 ----------- -->\n<div class=\"clear\"> </div>\n</div>\n<div class=\"clearSalto\"> </div>\n<div class=\"services nu-destacados\" style=\"text-align: left; color: rgb(0, 0, 0);\">\n<h2>Especiales destacados</h2>\n<div class=\"servicontdoble linea\">\n<h3><a href=\"https://www.premios-cine.com/oscars/\" target=\"_blank\" title=\"Premios Oscar\">LOS OSCARS 2020</a></h3>\n<a href=\"https://www.premios-cine.com/oscars/\" target=\"_blank\" title=\"Oscars 2020\"><img alt=\"Premios Oscar 2020\" src=\"/elementosWeb/gestionCajas/MMP/Image/premios_cine/globos_oro_2019.png\"/></a>\n<h4><a href=\"https://www.premios-cine.com/oscars/\" target=\"_blank\" title=\"Oscars 2020\">Premios Oscar 2020</a></h4>\n<p>Todo sobre la 92ª edición de los <strong>Premios Oscar 2020</strong>. Nominaciones, Ganadores, Alfombra Roja, la Gala y las últimas <a href=\"https://www.premios-cine.com/oscars/noticias/\" target=\"_blank\" title=\"Noticias Oscars\">noticias</a> de las <a href=\"https://www.premios-cine.com/oscars/oscar-mejor-pelicula.html\" target=\"_blank\" title=\"Oscar mejor película\">películas</a> candidatas.</p>\n<div class=\"menusuplementos\">\n<ul>\n<li><a href=\"https://www.premios-cine.com/oscars/nominados-oscar/\" target=\"_blank\" title=\"Nominados de los Oscars\">Nominados Oscars</a></li>\n<li><a href=\"https://www.premios-cine.com/oscars/la-gala.html\" target=\"_blank\" title=\"Gala de los Oscars\">Gala de los Oscars</a></li>\n<li><a href=\"https://www.premios-cine.com/oscars/la-alfombra-roja.html\" target=\"_blank\" title=\"Alfombra Roja de los Oscars\">Alfombra Roja Oscars</a></li>\n</ul>\n</div>\n<div class=\"menusuplementos\">\n<ul>\n<li><a href=\"https://www.premios-cine.com/oscars/ganadores-oscar/\" target=\"_blank\" title=\"Ganadores de los Oscars\">Ganadores Oscars</a></li>\n<li><a href=\"https://www.premios-cine.com/oscars/peliculas/\" target=\"_blank\" title=\"Películas de los Oscars\">Películas Oscars</a></li>\n<li><a href=\"https://www.premios-cine.com/oscars/directo.html\" target=\"_blank\" title=\"Directo de los Oscars\">Directo de los Oscars</a></li>\n</ul>\n</div>\n</div>\n<div class=\"servicontdoble linea\">\n<h3><a href=\"https://www.diariodemallorca.es/especiales/declaracion-renta/\">RENTA 2018</a></h3>\n<img alt=\"Declaración Renta 2018\" src=\"https://www.diariodemallorca.es/elementosWeb/gestionCajas/DMA/Image/2019/img_renta_reclamo.jpg\" title=\"declaración de la renta\"/>\n<h4><a href=\"https://www.diariodemallorca.es/especiales/declaracion-renta/\" title=\"declaracion renta\">Declaración de la Renta 2017/2018</a></h4>\n<p>Toda la <a href=\"https://www.diariodemallorca.es/declaracion-renta/manual/\">información para realizar la declaración de la Renta</a></p>\n<div class=\"menusuplementos\">\n<ul>\n<li><a href=\"https://www.diariodemallorca.es/especiales/declaracion-renta/2014/03/obligado-declarar-n372_30_9604.html\" title=\"obligador a declarar\">Obligado a declarar</a></li>\n<li><a href=\"https://www.diariodemallorca.es/especiales/declaracion-renta/deducciones/\" title=\"deducciones Renta\">Deducciones</a></li>\n<li><a href=\"https://www.diariodemallorca.es/especiales/declaracion-renta/2017/06/consultar-devolucion-renta-n372_30_37409.html\" title=\"Estado devolución\">Estado</a></li>\n</ul>\n</div>\n<div class=\"menusuplementos\">\n<ul>\n<li><a href=\"https://www.diariodemallorca.es/especiales/declaracion-renta/2014/04/ingresan-devolucion-n372_30_9864.html\" title=\"devolución renta\">Devolución</a></li>\n<li><a href=\"https://www.diariodemallorca.es/especiales/declaracion-renta/2015/05/pedir-cita-previa-declaracion-renta-n372_30_20328.html\" title=\"Pedir cita previa renta\">Pedir cita previa</a></li>\n<li><a href=\"https://www.diariodemallorca.es/especiales/declaracion-renta/2018/04/obtener-descargar-borrador-renta-n372_30_42956.html\n\" title=\"solicitar borrador\">Solicitar borrador</a></li>\n</ul>\n</div>\n</div>\n<div class=\"servicontdoble\">\n<h3><a href=\"/motor/\" target=\"_blank\" title=\"Neomotor\">NEOMOTOR</a></h3>\n<a href=\"/motor/\" target=\"_blank\" title=\"Neomotor\"><img alt=\"Neomotor\" src=\"https://www.diariodemallorca.es/elementosWeb/gestionCajas/MMP/Image/Reclamos/neomotor.jpg\"/></a>\n<h4><a href=\"/motor/\" target=\"_blank\" title=\"Neomotor\">Neomotor</a></h4>\n<p>Todo sobre coches eléctricos, movilidad, tecnología? Sigue los avances de motor y los últimos lanzamientos con Neomotor.</p>\n<div class=\"menusuplementos\">\n<ul>\n<li><a href=\"https://www.neomotor.com/marcas/\" target=\"_blank\" title=\"Marcas\">Marcas</a></li>\n<li><a href=\"https://www.neomotor.com/actualidad/\" target=\"_blank\" title=\"Actualidad\">Actualidad</a></li>\n<li><a href=\"/motor/coches\" target=\"_blank\" title=\"Coches\">Coches</a></li>\n</ul>\n</div>\n<div class=\"menusuplementos\">\n<ul>\n<li><a href=\"/motor/pruebas\" target=\"_blank\" title=\"Pruebas\">Pruebas</a></li>\n<li><a href=\"https://www.neomotor.com/videos \" target=\"_blank\" title=\"Vídeos\">Vídeos</a></li>\n<li><a href=\"https://www.neomotor.com/fotos\" target=\"_blank\" title=\"Fotos\">Fotos</a></li>\n</ul>\n</div>\n</div>\n<div class=\"clear\"> </div>\n</div>\n<br/>\n</div>\n</div>\n<div class=\"bloqueclearcero\"></div>\n<div class=\"oculto_col_movil\">\n<div>\n<div data-type=\"pc\" id=\"pc-div-gpt-ad_bottom980c\"></div>\n</div>\n</div>\n<div class=\"bloqueclear\"></div>\n<div class=\"bloqueclear\" style=\"clear:right;\"></div>\n<div class=\"contenedor\" id=\"Publicidad2\">\n</div>\n<div class=\"bloqueclear\"></div>\n<div class=\"bloqueclear_video\"></div>\n</div>\n</div>\n<div class=\"contenido_enlaces_recomendados\">\n<div class=\"nodesborda\">\n<!--<div style=\"width: 990px; margin: 0pt auto; text-align: left;\" id=\"enlaces_recomendados\">\nEnlaces recomendados:\n<a class=\"enlace_pie\" title=\"Premios cine\" href=\"http://www.premios-cine.com/\" target=\"_blank\">Premios Cine</a>\n</div>\n-->\n</div>\n</div>\n<div class=\"pie_pagina\">\n<div class=\"barra_sup\">\n<ul id=\"menu\"><!--11014-->\n<li>\n<a href=\"/\" target=\"_top\">HOME</a>\n</li>\n<!--11026-->\n<li>\n<a href=\"/mallorca/\" target=\"_top\">Mallorca</a>\n</li>\n<!--11033-->\n<li>\n<a href=\"/nacional/\" target=\"_top\">Actualidad</a>\n</li>\n<!--11040-->\n<li>\n<a href=\"/deportes/\" target=\"_top\">Deportes</a>\n</li>\n<!--11051-->\n<li>\n<a href=\"/economia/\" target=\"_top\">Economía</a>\n</li>\n<!--11062-->\n<li>\n<a href=\"/opinion/\" target=\"_top\">Opinión</a>\n</li>\n<!--11066-->\n<li>\n<a href=\"/cultura/\" target=\"_top\">Cultura</a>\n</li>\n<!--11073-->\n<li class=\"ocio\">\n<a href=\"https://ocio.diariodemallorca.es\" target=\"_top\">Ocio</a>\n</li>\n<!--11083-->\n<li>\n<a href=\"/vida-y-estilo/\" target=\"_top\">Vida y Estilo</a>\n</li>\n<!--11101-->\n<li>\n<a href=\"/comunidad/\" target=\"_top\">Comunidad</a>\n</li>\n<!--11106-->\n<li>\n<a href=\"/multimedia/\" target=\"_top\">Multimedia</a>\n</li>\n<!--11110-->\n<li>\n<a href=\"/suscriptor/\" target=\"_top\">SUSCRIPTOR</a>\n</li>\n</ul>\n</div>\n<div class=\"bordes_pie\">\n<div class=\"contenido_pie\">\n<div class=\"logo_pie\"><a href=\"/\"><img alt=\"noticias de Diario de Mallorca\" border=\"0\" height=\"42\" src=\"/elementosWeb/mediaweb/images1010/pie/logo_pie.jpg\" width=\"221\"/></a><a href=\"/mapaweb/\" title=\"Mapa web\"><span>Mapa web</span></a></div>\n<div class=\"nodesborda\">\n<div class=\"columna una\">\n<div class=\"titular_pie\"><a href=\"/mallorca/\" target=\"_top\" title=\"Mallorca\">Mallorca</a></div>\n<ul>\n<li><a href=\"https://tiempo.diariodemallorca.es\" target=\"_top\" title=\"El tiempo\">El tiempo</a></li>\n<li><a href=\"https://ocio.diariodemallorca.es\" target=\"_top\" title=\"Ocio en Mallorca\">Ocio en Mallorca</a></li>\n<li><a href=\"/servicios/trafico/estado-mar.html\" target=\"_top\" title=\"Tráfico en Mallorca\">Tráfico en Mallorca</a></li>\n<li><a href=\"https://ocio.diariodemallorca.es/cine/cartelera/illes-balears-mallorca/\" target=\"_top\" title=\"Cartelera de cine\">Cartelera de cine</a></li>\n<li><a href=\"/palma/\" target=\"_top\" title=\"Palma\">Palma</a></li>\n</ul>\n</div>\n<div class=\"columna dos\">\n<div class=\"titular_pie\">Clasificados</div>\n<ul>\n<li><a href=\"https://www.tucasa.com/\" rel=\"nofollow\" target=\"_top\" title=\"tucasa.com\">tucasa.com</a></li> <li><a href=\"https://ocasion.neomotor.com/\" rel=\"nofollow\" target=\"_top\" title=\"Neomotor Ocasión\">Neomotor Ocasión</a></li> <li><a href=\"https://www.iberempleos.es/\" rel=\"nofollow\" target=\"_top\" title=\"Iberempleos\">Iberempleos</a></li> <li><a href=\"https://www.cambalache.es/\" rel=\"nofollow\" target=\"_top\" title=\"Cambalache\">Cambalache</a></li>\n</ul>\n</div>\n<div class=\"columna tres\">\n<div class=\"titular_pie\"><a href=\"/especiales/\" title=\"Especiales\">Especiales</a></div>\n<ul>\n<li><a href=\"https://www.laloterianavidad.com\" target=\"_top\" title=\"Loterí­a Navidad\">Lotería Navidad</a></li>\n<li><a href=\"https://www.laloterianavidad.com/loteria-del-nino.html\" target=\"_top\" title=\"Loterí­a el Niño\">Loterí­a el Niño</a></li>\n<li><a href=\"https://formula1.lne.es\" target=\"_top\" title=\"Fórmula 1\">Fórmula 1</a></li>\n<li><a href=\"https://www.premios-cine.com/\" target=\"_top\" title=\"Premios Cine\">Premios Cine</a></li>\n<li><a href=\"https://www.diariodemallorca.es/especiales/declaracion-renta/\" target=\"_top\" title=\"Declaración de la Renta\">Renta</a></li>\n<li><a href=\"https://mas.diariodemallorca.es/farmacias-guardia-mallorca/\" target=\"_top\" title=\"farmacias de guardia\">Farmacias de Guardia</a></li>\n<li><a href=\"https://www.diariodemallorca.es/especiales/calendario-escolar-laboral-baleares/calendario-laboral/\" target=\"_top\" title=\"Calendario Laboral\">Calendario Laboral</a></li>\n<li><a href=\"https://www.diariodemallorca.es/especiales/calendario-escolar-laboral-baleares/curso-escolar-2019-2020/\" target=\"_top\" title=\"Calendario Escolar\">Calendario Escolar</a></li>\n</ul>\n</div>\n<div class=\"columna cuatro\">\n<div class=\"titular_pie\">diariodemallorca.es</div>\n<ul>\n<li><a href=\"/servicios/contacte/contacte.html\" target=\"_top\" title=\"Contacto\">Contacto</a></li>\n<li><a href=\"https://micuenta.diariodemallorca.es/suscripcion/galeria/\" target=\"_top\" title=\"Suscripción Diario de Mallorca\">Suscripción</a></li>\n<li><a href=\"/servicios/corporativo/localizacion.html\" target=\"_top\" title=\"Localización\">Localización</a></li>\n<li><a href=\"https://micuenta.diariodemallorca.es/protecciondatos?gdprTipo=3\" target=\"_blank\" title=\"Aviso legal\">Aviso legal</a></li>\n<li><a href=\"https://micuenta.diariodemallorca.es/protecciondatos?gdprTipo=1\" target=\"_blank\" title=\"Política de privacidad y protección de datos\">Política de privacidad y protección de datos</a></li>\n<li><a href=\"https://micuenta.diariodemallorca.es/protecciondatos?gdprTipo=2\" target=\"_blank\" title=\"Política de cookies\">Política de cookies</a></li>\n<li><a href=\"/servicios/rss/rss.jsp\" target=\"_top\" title=\"RSS\">RSS</a></li>\n</ul>\n</div>\n<div class=\"columna cinco\">\n<div class=\"titular_pie\">Publicidad</div>\n<ul>\n<li><a href=\"/servicios/tarifas/tarifa_papel.jsp\" target=\"_top\" title=\"Tarifas\">Tarifas Papel</a></li>\n<li><a href=\"/servicios/tarifas/tarifa_web.jsp\" target=\"_top\" title=\"Tarifas\">Tarifas Internet</a></li>\n<li><a href=\"mailto:publicidad.diariodemallorca@epi.es\" target=\"_top\" title=\"Contratar\">Contratar</a></li>\n<li><a href=\"http://www.becontent.es/\" target=\"_blank\">Branded Content</a></li>\n</ul>\n</div>\n</div>\n<div class=\"separador_pie\"></div>\n<div class=\"nodesborda\">\n<div class=\"titular_pie2\">Otras webs del Grupo Prensa Ibérica Media</div>\n<div class=\"logo_epi\"></div>\n<div class=\"webs_links\" name=\"webs_links\">\n<!-- añadido atributo name para responsive -->\n<!-- elemento añadido al responsive (apertura)-->\n<div class=\"itemOculto\">\n<a class=\"enlaceOculto\" href=\"#webs_links\" onclick=\"return false;\">Otras webs del Grupo Prensa Ibérica Media</a>\n<div>\n<!-- **** -->\n<a href=\"https://www.diaridegirona.cat/\" target=\"_blank\">Diari de Girona</a> | <a href=\"https://www.diariodeibiza.es/\" target=\"_blank\">Diario de Ibiza</a> | <a href=\"https://www.diariodemallorca.es/\" target=\"_blank\">Diario de Mallorca</a> | <a href=\"https://www.emporda.info/\" target=\"_blank\">Empordà</a> | <a href=\"https://www.farodevigo.es/\" target=\"_blank\">Faro de Vigo</a> | <a href=\"https://www.diarioinformacion.com\" target=\"_blank\">Información</a> | <a href=\"https://www.laopinioncoruna.es/\" target=\"_blank\">La Opinión A Coruña</a> | <a href=\"https://www.laopiniondemalaga.es/\" target=\"_blank\"> La Opinión de Málaga </a> | <a href=\"https://www.laopiniondemurcia.es/\" target=\"_blank\">La Opinión de Murcia</a> | <a href=\"https://www.eldia.es/\" target=\"_blank\">El Día</a> | <a href=\"https://www.laopiniondezamora.es/\" target=\"_blank\">La Opinión de Zamora</a> | <a href=\"https://www.laprovincia.es/\" target=\"_blank\">La Provincia</a> | <a class=\"enlace_pie\" href=\"https://www.lne.es/\" target=\"_blank\"> La Nueva España </a> | <a href=\"https://www.levante-emv.com/\" target=\"_blank\">Levante-EMV</a> | <a href=\"https://www.mallorcazeitung.es/\" target=\"_blank\">Mallorca Zeitung</a> | <a href=\"https://www.regio7.cat/\" target=\"_blank\">Regió 7</a> | <a href=\"https://www.superdeporte.es/\" target=\"_blank\">Superdeporte</a> | <a href=\"http://www.adelaidereview.com.au/\" target=\"_blank\">The Adelaide Review</a> | <a href=\"http://www.la977.com/\" target=\"_blank\">97.7 La Radio</a> | <a href=\"http://www.euroresidentes.com\" rel=\"nofollow\" target=\"_blank\">Euroresidentes</a> | <a href=\"https://www.laloterianavidad.com\" target=\"_blank\" title=\"Loteria Navidad\">Lotería Navidad</a> | <a href=\"http://www.premios-cine.com/\" target=\"_blank\" title=\"Premios Cine\">Premios Cine</a> | <a href=\"http://www.compramejor.es\" rel=\"nofollow\" target=\"_blank\" title=\"Compra Mejor\">Compra Mejor</a> | <a href=\"https://www.prensaiberica360.es/\" target=\"_blank\">Prensa Ibérica 360</a> | <a href=\"https://www.neomotor.com\" rel=\"nofollow\" target=\"_blank\">Neomotor</a> | <a href=\"https://guapisimas.stilo.es\" rel=\"nofollow\" target=\"_blank\">Guapísimas</a> | <a href=\"https://www.buscandorespuestas.com/\" rel=\"nofollow\" target=\"_blank\">BuscandoRespuestas.com</a>\n<!-- cierre de elemento añadido al responsive -->\n</div>\n</div>\n<!-- **** -->\n</div>\n<div class=\"patrocinadores\">\n<div class=\"PI360\"></div>\n</div>\n</div>\n<div class=\"bloqueclear\"></div>\n</div>\n</div>\n</div>\n<div class=\"cierre_pie_pagina\">\n<div class=\"nodesborda\">\n<div class=\"copyright\">\n<address>© Editora Balear, S.A. Todos los derechos reservados.</address>\n</div>\n<div class=\"avisos_legales\">\n<a href=\"https://micuenta.diariodemallorca.es/protecciondatos?gdprTipo=3\" target=\"_blank\" title=\"Aviso Legal\">Aviso Legal</a>\n<span class=\"separador\"> | </span>\n<a href=\"https://micuenta.diariodemallorca.es/protecciondatos?gdprTipo=1\" target=\"_blank\" title=\"Política de Privacidad\">Política de Privacidad</a>\n<span class=\"separador\"> | </span>\n<a href=\"https://micuenta.diariodemallorca.es/protecciondatos?gdprTipo=2\" target=\"_blank\" title=\"Política de Cookies\">Política de Cookies</a>\n</div>\n<script src=\"https://estaticos.diariodemallorca.es/elementosWeb/js/ads.js\" type=\"text/javascript\"></script><script type=\"text/javascript\">var prev_handler=window.onload;window.onload=function(){if (prev_handler){prev_handler();}if(document.getElementById(\"ads_control\")!= undefined){if(typeof utag != \"undefined\")utag.link({'eventCat':'Adblock','eventAct':'Unblocked','eventLbl':'false','eventVal':'','non_interaction':'1'});}else{if(typeof utag != \"undefined\")utag.link({'eventCat':'Adblock','eventAct':'Blocked','eventLbl':'true','eventVal':'','non_interaction':'1'});}}; </script>\n</div>\n</div>\n</div>\n<div class=\"pixelContador\" id=\"pixelContadorFinBody\">\n</div>\n</div>\n</body>\n</html>\n>"
     },
     "metadata": {},
     "execution_count": 8
    }
   ],
   "source": [
    "# VAMOS A EMPEZAR A PREPARAR LA 'SOUP'\n",
    "soup = BeautifulSoup(diariomallorca.text, 'lxml')\n",
    "soup.prettify"
   ]
  },
  {
   "cell_type": "code",
   "execution_count": 9,
   "metadata": {},
   "outputs": [
    {
     "output_type": "execute_result",
     "data": {
      "text/plain": "['La crisis del coronavirus',\n ' /.friso-coronavirus__title ',\n 'Cómo actuar ante el coronavirus',\n '/.friso-coronavirus__swiper',\n ' /.friso-coronavirus__data-item ',\n ' /.friso-coronavirus__data-item ',\n ' /.friso-coronavirus__data ',\n ' /.friso-coronavirus ',\n '958 positivos y 33 muertes por coronavirus en Baleares',\n 'Los investigadores de Baleares vuelcan todos los esfuerzos en el coronavirus',\n 'Consulta todas las noticias del coronavirus en Mallorca',\n 'Es una \"buena noticia\" que el coronavirus crezca a un \"ritmo menor\" en Baleares',\n 'Los clientes de BBVA pueden hacer su operativa habitual desde la web o la app durante la crisis del coronavirus.',\n 'La funeraria de Palma adapta a la baja el precio de sus servicios por el coronavirus',\n 'Nacer en tiempos de coronavirus: \"Me da pena que mi familia no conozca a mi hija\"',\n 'Crisis del coronavirus',\n '¿Está ya España en el pico de incidencia del coronavirus?',\n 'Marià Gastalver, prior del santuario de Lluc: \"Habrá un antes y un después en el mundo tras la crisis del coronavirus\"',\n 'Crisis del coronavirus',\n 'Más de 30.000 personas han muerto por coronavirus en todo el mundo',\n 'Centenares de mallorquines han tenido el coronavirus sin saberlo',\n 'Todas las noticias sobre el coronavirus en Mallorca',\n ' Deporte en casa para tiempos de coronavirus',\n \"if(typeof iniciarVideo === 'function'){iniciarVideo('contVideo-1585497764711_1585497336433_5e80c30efab46c014c926969','1c',' Ejercicios en casa para combatir el confinamiento por el coronavirus (d&iacute;a 14)','https://www.diariodemallorca.es/multimedia/videos/deportes/2020-03-29-198888-ejercicios-casa-para-combatir-confinamiento-coronavirus.html',false,'https://pubads.g.doubleclick.net/gampad/ads?sz=640x360&iu=/138855687/nacional-dima/dima-generico_vc&ciu_szs&impl=s&cust_params=p%3Dcpm_preroll%26t%3Dtema%26[custom_params]&gdfp_req=1&env=vp&ad_rule=1&output=vmap&unviewed_position_start=1&url=[url]&description_url=[title]&correlator=[timestamp]#0#10#0#10 ','_dma_externa-sineditar');}\",\n 'La periodista mallorquina Sabina Pons nos cuenta cómo pasa la cuarentena por el coronavirus en su casa',\n ' Canciones para tiempos de coronavirus',\n \"if(typeof iniciarVideo === 'function'){iniciarVideo('contVideo-1585497765356_1585483688000_5e7e58c7897ae00f1a56081e','1c','Canciones para tiempos de coronavirus: &acute;Zombie&acute; de Fela Kuti','https://www.diariodemallorca.es/multimedia/videos/cultura/2020-03-27-198706-canciones-para-tiempos-coronavirus-descanso-sentido-fela-kuti.html',false,'https://pubads.g.doubleclick.net/gampad/ads?sz=640x360&iu=/138855687/nacional-dima/dima-generico_vc&ciu_szs&impl=s&cust_params=p%3Dcpm_preroll%26t%3Dtema%26[custom_params]&gdfp_req=1&env=vp&ad_rule=1&output=vmap&unviewed_position_start=1&url=[url]&description_url=[title]&correlator=[timestamp]#0#10#0#10 ','_dma_propio');}\",\n ' Lectures en temps de coronavirus',\n \"if(typeof iniciarVideo === 'function'){iniciarVideo('contVideo-1585497765747_1585495340939_5e7e461c6abc864575e6035f','1c','Lectures en temps de coronavirus: &acute;21 lli&ccedil;ons per al segle XXI&acute;, de Yuval Noah Harari','https://www.diariodemallorca.es/multimedia/videos/cultura/2020-03-27-198696-lectures-temps-coronavirus-llions-segle-yuval-noah-harari.html',false,'https://pubads.g.doubleclick.net/gampad/ads?sz=640x360&iu=/138855687/nacional-dima/dima-generico_vc&ciu_szs&impl=s&cust_params=p%3Dcpm_preroll%26t%3Dtema%26[custom_params]&gdfp_req=1&env=vp&ad_rule=1&output=vmap&unviewed_position_start=1&url=[url]&description_url=[title]&correlator=[timestamp]#0#10#0#10 ','_dma_propio');}\",\n 'Nadal y Gasol inician una campaña para recaudar 11 millones de euros para la lucha contra el coronavirus',\n '¿Vendría usted de vacaciones a la Mallorca postcoronavirus, una isla que no puede garantizar una mascarilla por habitante?',\n 'La actuación de las fuerzas de seguridad durante la crisis del coronavirus ha generado una oleada de admiración por su labor',\n 'COVID-19, consejos para que el coronavirus no entre en tu casa',\n 'Aprovecha el coronavirus para hacer los arreglos pendientes en tu casa',\n '958 positivos y 33 muertes por coronavirus en Baleares',\n 'Paco, el anciano con pluripatología que le ganó la batalla al coronavirus',\n 'Es una \"buena noticia\" que el coronavirus crezca a un \"ritmo menor\" en Baleares',\n 'Endesa crea un fondo de 25 millones de euros para la lucha contra el coronavirus']"
     },
     "metadata": {},
     "execution_count": 9
    }
   ],
   "source": [
    "# busca por toda la página donde aparece esta unión de carácteres\n",
    "soup.findAll(text=re.compile('corona'))"
   ]
  },
  {
   "cell_type": "code",
   "execution_count": 10,
   "metadata": {},
   "outputs": [],
   "source": [
    "# sacar enlaces con las palabras\n",
    "cantidad = soup.findAll('a')\n",
    "enlaces_corona = []\n",
    "palabras = ['coronavirus','Coronavirus','CORONAVIRUS', 'COVID-19', 'Covid-19','covid-19']\n",
    "for i in range(0, len(palabras)):\n",
    "    if soup.findAll('a', text=re.compile(palabras[i])):\n",
    "        enlaces_corona.append(soup.findAll('a', attrs={'href':re.compile('http')}, text=re.compile('coronavirus')))"
   ]
  },
  {
   "cell_type": "code",
   "execution_count": 11,
   "metadata": {},
   "outputs": [
    {
     "output_type": "stream",
     "name": "stdout",
     "text": "36\n"
    },
    {
     "output_type": "execute_result",
     "data": {
      "text/plain": "['https://www.diariodemallorca.es/tags/coronavirus-en-mallorca.html',\n 'https://www.diariodemallorca.es/tags/coronavirus-en-mallorca.html',\n 'https://www.diariodemallorca.es/deportes/2020/03/26/nadal-gasol-inician-campana-recaudar/1497664.html',\n 'https://press.tucasa.com/hogar-decoracion/covid-19-consejos-para-que-el-coronavirus-no-entre-en-tu-casa/',\n 'https://press.tucasa.com/hogar-decoracion/arregla-tu-casa-mientras-dure-el-coronavirus/',\n 'https://www.diariodemallorca.es/mallorca/2020/03/29/958-casos-33-muertes-coronavirus-baleares/1498467.html',\n 'https://www.diariodemallorca.es/sociedad/2020/03/29/paco-anciano-pluripatologia-le-gano/1498542.html',\n 'https://www.diariodemallorca.es/mallorca/2020/03/29/buena-noticia-coronavirus-crezca-ritmo/1498534.html',\n 'https://www.diariodemallorca.es/mallorca/2020/03/29/endesa-crea-fondo-25-millones/1498533.html',\n 'https://www.diariodemallorca.es/tags/coronavirus-en-mallorca.html',\n 'https://www.diariodemallorca.es/tags/coronavirus-en-mallorca.html',\n 'https://www.diariodemallorca.es/deportes/2020/03/26/nadal-gasol-inician-campana-recaudar/1497664.html',\n 'https://press.tucasa.com/hogar-decoracion/covid-19-consejos-para-que-el-coronavirus-no-entre-en-tu-casa/',\n 'https://press.tucasa.com/hogar-decoracion/arregla-tu-casa-mientras-dure-el-coronavirus/',\n 'https://www.diariodemallorca.es/mallorca/2020/03/29/958-casos-33-muertes-coronavirus-baleares/1498467.html',\n 'https://www.diariodemallorca.es/sociedad/2020/03/29/paco-anciano-pluripatologia-le-gano/1498542.html',\n 'https://www.diariodemallorca.es/mallorca/2020/03/29/buena-noticia-coronavirus-crezca-ritmo/1498534.html',\n 'https://www.diariodemallorca.es/mallorca/2020/03/29/endesa-crea-fondo-25-millones/1498533.html',\n 'https://www.diariodemallorca.es/tags/coronavirus-en-mallorca.html',\n 'https://www.diariodemallorca.es/tags/coronavirus-en-mallorca.html',\n 'https://www.diariodemallorca.es/deportes/2020/03/26/nadal-gasol-inician-campana-recaudar/1497664.html',\n 'https://press.tucasa.com/hogar-decoracion/covid-19-consejos-para-que-el-coronavirus-no-entre-en-tu-casa/',\n 'https://press.tucasa.com/hogar-decoracion/arregla-tu-casa-mientras-dure-el-coronavirus/',\n 'https://www.diariodemallorca.es/mallorca/2020/03/29/958-casos-33-muertes-coronavirus-baleares/1498467.html',\n 'https://www.diariodemallorca.es/sociedad/2020/03/29/paco-anciano-pluripatologia-le-gano/1498542.html',\n 'https://www.diariodemallorca.es/mallorca/2020/03/29/buena-noticia-coronavirus-crezca-ritmo/1498534.html',\n 'https://www.diariodemallorca.es/mallorca/2020/03/29/endesa-crea-fondo-25-millones/1498533.html',\n 'https://www.diariodemallorca.es/tags/coronavirus-en-mallorca.html',\n 'https://www.diariodemallorca.es/tags/coronavirus-en-mallorca.html',\n 'https://www.diariodemallorca.es/deportes/2020/03/26/nadal-gasol-inician-campana-recaudar/1497664.html',\n 'https://press.tucasa.com/hogar-decoracion/covid-19-consejos-para-que-el-coronavirus-no-entre-en-tu-casa/',\n 'https://press.tucasa.com/hogar-decoracion/arregla-tu-casa-mientras-dure-el-coronavirus/',\n 'https://www.diariodemallorca.es/mallorca/2020/03/29/958-casos-33-muertes-coronavirus-baleares/1498467.html',\n 'https://www.diariodemallorca.es/sociedad/2020/03/29/paco-anciano-pluripatologia-le-gano/1498542.html',\n 'https://www.diariodemallorca.es/mallorca/2020/03/29/buena-noticia-coronavirus-crezca-ritmo/1498534.html',\n 'https://www.diariodemallorca.es/mallorca/2020/03/29/endesa-crea-fondo-25-millones/1498533.html']"
     },
     "metadata": {},
     "execution_count": 11
    }
   ],
   "source": [
    "# limpiar solos url con http\n",
    "links = []\n",
    "for i in range(0, len(enlaces_corona)):\n",
    "    for link in enlaces_corona[i]:\n",
    "        links.append(link.get('href'))\n",
    "print(len(links))\n",
    "links"
   ]
  },
  {
   "cell_type": "code",
   "execution_count": 12,
   "metadata": {},
   "outputs": [
    {
     "output_type": "stream",
     "name": "stdout",
     "text": "8\n"
    },
    {
     "output_type": "execute_result",
     "data": {
      "text/plain": "['https://www.diariodemallorca.es/sociedad/2020/03/29/paco-anciano-pluripatologia-le-gano/1498542.html',\n 'https://www.diariodemallorca.es/tags/coronavirus-en-mallorca.html',\n 'https://press.tucasa.com/hogar-decoracion/covid-19-consejos-para-que-el-coronavirus-no-entre-en-tu-casa/',\n 'https://www.diariodemallorca.es/mallorca/2020/03/29/endesa-crea-fondo-25-millones/1498533.html',\n 'https://www.diariodemallorca.es/mallorca/2020/03/29/958-casos-33-muertes-coronavirus-baleares/1498467.html',\n 'https://press.tucasa.com/hogar-decoracion/arregla-tu-casa-mientras-dure-el-coronavirus/',\n 'https://www.diariodemallorca.es/deportes/2020/03/26/nadal-gasol-inician-campana-recaudar/1497664.html',\n 'https://www.diariodemallorca.es/mallorca/2020/03/29/buena-noticia-coronavirus-crezca-ritmo/1498534.html']"
     },
     "metadata": {},
     "execution_count": 12
    }
   ],
   "source": [
    "# eliminar dublicados\n",
    "linksNuevo = set(links)\n",
    "links = list(linksNuevo)\n",
    "print(len(links))\n",
    "links"
   ]
  },
  {
   "cell_type": "code",
   "execution_count": null,
   "metadata": {},
   "outputs": [],
   "source": []
  }
 ]
}